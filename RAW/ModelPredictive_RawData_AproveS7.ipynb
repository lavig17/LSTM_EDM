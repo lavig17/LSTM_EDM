{
 "cells": [
  {
   "cell_type": "code",
   "execution_count": 1,
   "metadata": {},
   "outputs": [],
   "source": [
    "# ignore warnings\n",
    "import warnings\n",
    "warnings.filterwarnings('ignore')"
   ]
  },
  {
   "cell_type": "code",
   "execution_count": 2,
   "metadata": {},
   "outputs": [],
   "source": [
    "# import libraries\n",
    "import pandas as pd\n",
    "import numpy as np\n",
    "import matplotlib.pyplot as plt\n",
    "import seaborn as sns\n",
    "from sklearn.preprocessing import LabelEncoder\n",
    "import tensorflow as tf\n",
    "from tensorflow.keras.layers import Dense, LeakyReLU, BatchNormalization, Input, Concatenate, LSTM\n",
    "from tensorflow.keras.models import Model, Sequential\n",
    "from tensorflow.keras.optimizers import Adam\n",
    "from sklearn.preprocessing import MinMaxScaler\n",
    "from sklearn.model_selection import KFold, train_test_split\n",
    "from sklearn.metrics import accuracy_score, recall_score, f1_score, confusion_matrix, precision_score, classification_report\n",
    "from sklearn.tree import DecisionTreeClassifier\n",
    "from sklearn.ensemble import RandomForestClassifier\n",
    "from sklearn.linear_model import LogisticRegression\n",
    "from sklearn.svm import SVC\n",
    "from sklearn.neighbors import KNeighborsClassifier\n",
    "from tensorflow.keras.models import Sequential\n",
    "from tensorflow.keras.layers import Dense\n",
    "from tensorflow.keras.utils import to_categorical"
   ]
  },
  {
   "cell_type": "code",
   "execution_count": 3,
   "metadata": {},
   "outputs": [
    {
     "name": "stdout",
     "output_type": "stream",
     "text": [
      "(667, 16)\n"
     ]
    },
    {
     "data": {
      "text/html": [
       "<div>\n",
       "<style scoped>\n",
       "    .dataframe tbody tr th:only-of-type {\n",
       "        vertical-align: middle;\n",
       "    }\n",
       "\n",
       "    .dataframe tbody tr th {\n",
       "        vertical-align: top;\n",
       "    }\n",
       "\n",
       "    .dataframe thead th {\n",
       "        text-align: right;\n",
       "    }\n",
       "</style>\n",
       "<table border=\"1\" class=\"dataframe\">\n",
       "  <thead>\n",
       "    <tr style=\"text-align: right;\">\n",
       "      <th></th>\n",
       "      <th>ID</th>\n",
       "      <th>Year of Income</th>\n",
       "      <th>Career</th>\n",
       "      <th>Gender</th>\n",
       "      <th>Qualified Practice 1</th>\n",
       "      <th>Partial Task</th>\n",
       "      <th>Midterm Exam</th>\n",
       "      <th>Qualified Practice 2</th>\n",
       "      <th>Final Task</th>\n",
       "      <th>Participation in Class</th>\n",
       "      <th>Final Exam</th>\n",
       "      <th>Linguistic Comprehension</th>\n",
       "      <th>Mathematic</th>\n",
       "      <th>Final average</th>\n",
       "      <th>Target</th>\n",
       "      <th>Output Feature 2</th>\n",
       "    </tr>\n",
       "  </thead>\n",
       "  <tbody>\n",
       "    <tr>\n",
       "      <th>0</th>\n",
       "      <td>1</td>\n",
       "      <td>2022</td>\n",
       "      <td>ISI</td>\n",
       "      <td>M</td>\n",
       "      <td>9</td>\n",
       "      <td>19.0</td>\n",
       "      <td>17.0</td>\n",
       "      <td>12.0</td>\n",
       "      <td>13.0</td>\n",
       "      <td>19</td>\n",
       "      <td>12.0</td>\n",
       "      <td>19</td>\n",
       "      <td>17</td>\n",
       "      <td>13.40</td>\n",
       "      <td>Approved</td>\n",
       "      <td>Complete</td>\n",
       "    </tr>\n",
       "    <tr>\n",
       "      <th>1</th>\n",
       "      <td>2</td>\n",
       "      <td>2022</td>\n",
       "      <td>ISI</td>\n",
       "      <td>F</td>\n",
       "      <td>15</td>\n",
       "      <td>20.0</td>\n",
       "      <td>20.0</td>\n",
       "      <td>20.0</td>\n",
       "      <td>20.0</td>\n",
       "      <td>18</td>\n",
       "      <td>14.0</td>\n",
       "      <td>20</td>\n",
       "      <td>19</td>\n",
       "      <td>17.90</td>\n",
       "      <td>Approved</td>\n",
       "      <td>Complete</td>\n",
       "    </tr>\n",
       "    <tr>\n",
       "      <th>2</th>\n",
       "      <td>3</td>\n",
       "      <td>2022</td>\n",
       "      <td>ISI</td>\n",
       "      <td>M</td>\n",
       "      <td>6</td>\n",
       "      <td>0.0</td>\n",
       "      <td>0.0</td>\n",
       "      <td>5.0</td>\n",
       "      <td>6.0</td>\n",
       "      <td>14</td>\n",
       "      <td>6.0</td>\n",
       "      <td>11</td>\n",
       "      <td>10</td>\n",
       "      <td>5.05</td>\n",
       "      <td>Disapproved</td>\n",
       "      <td>Complete</td>\n",
       "    </tr>\n",
       "    <tr>\n",
       "      <th>3</th>\n",
       "      <td>4</td>\n",
       "      <td>2022</td>\n",
       "      <td>ISI</td>\n",
       "      <td>M</td>\n",
       "      <td>20</td>\n",
       "      <td>20.0</td>\n",
       "      <td>20.0</td>\n",
       "      <td>20.0</td>\n",
       "      <td>20.0</td>\n",
       "      <td>20</td>\n",
       "      <td>18.0</td>\n",
       "      <td>20</td>\n",
       "      <td>19</td>\n",
       "      <td>19.50</td>\n",
       "      <td>Approved</td>\n",
       "      <td>Complete</td>\n",
       "    </tr>\n",
       "    <tr>\n",
       "      <th>4</th>\n",
       "      <td>5</td>\n",
       "      <td>2022</td>\n",
       "      <td>ISI</td>\n",
       "      <td>M</td>\n",
       "      <td>6</td>\n",
       "      <td>16.0</td>\n",
       "      <td>15.0</td>\n",
       "      <td>7.0</td>\n",
       "      <td>17.0</td>\n",
       "      <td>18</td>\n",
       "      <td>7.0</td>\n",
       "      <td>16</td>\n",
       "      <td>12</td>\n",
       "      <td>11.60</td>\n",
       "      <td>Disapproved</td>\n",
       "      <td>Complete</td>\n",
       "    </tr>\n",
       "  </tbody>\n",
       "</table>\n",
       "</div>"
      ],
      "text/plain": [
       "   ID  Year of Income Career Gender  Qualified Practice 1  Partial Task  \\\n",
       "0   1            2022    ISI      M                     9          19.0   \n",
       "1   2            2022    ISI      F                    15          20.0   \n",
       "2   3            2022    ISI      M                     6           0.0   \n",
       "3   4            2022    ISI      M                    20          20.0   \n",
       "4   5            2022    ISI      M                     6          16.0   \n",
       "\n",
       "   Midterm Exam  Qualified Practice 2  Final Task  Participation in Class  \\\n",
       "0          17.0                  12.0        13.0                      19   \n",
       "1          20.0                  20.0        20.0                      18   \n",
       "2           0.0                   5.0         6.0                      14   \n",
       "3          20.0                  20.0        20.0                      20   \n",
       "4          15.0                   7.0        17.0                      18   \n",
       "\n",
       "   Final Exam  Linguistic Comprehension  Mathematic  Final average  \\\n",
       "0        12.0                        19          17          13.40   \n",
       "1        14.0                        20          19          17.90   \n",
       "2         6.0                        11          10           5.05   \n",
       "3        18.0                        20          19          19.50   \n",
       "4         7.0                        16          12          11.60   \n",
       "\n",
       "        Target Output Feature 2  \n",
       "0     Approved         Complete  \n",
       "1     Approved         Complete  \n",
       "2  Disapproved         Complete  \n",
       "3     Approved         Complete  \n",
       "4  Disapproved         Complete  "
      ]
     },
     "execution_count": 3,
     "metadata": {},
     "output_type": "execute_result"
    }
   ],
   "source": [
    "# import dataset\n",
    "df = pd.read_excel('DataSet_v1.xlsx', skiprows=3).drop('Unnamed: 0', axis=1)\n",
    "print(df.shape)\n",
    "df.head()"
   ]
  },
  {
   "cell_type": "markdown",
   "metadata": {},
   "source": [
    "##### Initial Analysis"
   ]
  },
  {
   "cell_type": "code",
   "execution_count": 4,
   "metadata": {},
   "outputs": [
    {
     "data": {
      "text/plain": [
       "ID                          0\n",
       "Year of Income              0\n",
       "Career                      0\n",
       "Gender                      0\n",
       "Qualified Practice 1        0\n",
       "Partial Task                2\n",
       "Midterm Exam                2\n",
       "Qualified Practice 2        0\n",
       "Final Task                  2\n",
       "Participation in Class      0\n",
       "Final Exam                  0\n",
       "Linguistic Comprehension    0\n",
       "Mathematic                  0\n",
       "Final average               0\n",
       "Target                      0\n",
       "Output Feature 2            0\n",
       "dtype: int64"
      ]
     },
     "execution_count": 4,
     "metadata": {},
     "output_type": "execute_result"
    }
   ],
   "source": [
    "# check for missing values\n",
    "df.isnull().sum()"
   ]
  },
  {
   "cell_type": "code",
   "execution_count": 5,
   "metadata": {},
   "outputs": [
    {
     "data": {
      "text/plain": [
       "ID                          0.00000\n",
       "Year of Income              0.00000\n",
       "Career                      0.00000\n",
       "Gender                      0.00000\n",
       "Qualified Practice 1        0.00000\n",
       "Partial Task                0.29985\n",
       "Midterm Exam                0.29985\n",
       "Qualified Practice 2        0.00000\n",
       "Final Task                  0.29985\n",
       "Participation in Class      0.00000\n",
       "Final Exam                  0.00000\n",
       "Linguistic Comprehension    0.00000\n",
       "Mathematic                  0.00000\n",
       "Final average               0.00000\n",
       "Target                      0.00000\n",
       "Output Feature 2            0.00000\n",
       "dtype: float64"
      ]
     },
     "execution_count": 5,
     "metadata": {},
     "output_type": "execute_result"
    }
   ],
   "source": [
    "# check missing percentage\n",
    "df.isnull().sum()/df.shape[0]*100"
   ]
  },
  {
   "cell_type": "markdown",
   "metadata": {},
   "source": [
    "Since its less than 1 percent, we can drop the rows with missing values."
   ]
  },
  {
   "cell_type": "code",
   "execution_count": 6,
   "metadata": {},
   "outputs": [],
   "source": [
    "# drop missing values\n",
    "df.dropna(inplace=True)"
   ]
  },
  {
   "cell_type": "code",
   "execution_count": 7,
   "metadata": {},
   "outputs": [
    {
     "data": {
      "text/plain": [
       "0"
      ]
     },
     "execution_count": 7,
     "metadata": {},
     "output_type": "execute_result"
    }
   ],
   "source": [
    "# check duplicates\n",
    "df.duplicated().sum()"
   ]
  },
  {
   "cell_type": "code",
   "execution_count": 8,
   "metadata": {},
   "outputs": [
    {
     "data": {
      "text/plain": [
       "ID                            int64\n",
       "Year of Income                int64\n",
       "Career                       object\n",
       "Gender                       object\n",
       "Qualified Practice 1          int64\n",
       "Partial Task                float64\n",
       "Midterm Exam                float64\n",
       "Qualified Practice 2        float64\n",
       "Final Task                  float64\n",
       "Participation in Class        int64\n",
       "Final Exam                  float64\n",
       "Linguistic Comprehension      int64\n",
       "Mathematic                    int64\n",
       "Final average               float64\n",
       "Target                       object\n",
       "Output Feature 2             object\n",
       "dtype: object"
      ]
     },
     "execution_count": 8,
     "metadata": {},
     "output_type": "execute_result"
    }
   ],
   "source": [
    "# check data types\n",
    "df.dtypes"
   ]
  },
  {
   "cell_type": "code",
   "execution_count": 9,
   "metadata": {},
   "outputs": [],
   "source": [
    "# convert year to categorical\n",
    "df['Year of Income'] = df['Year of Income'].astype('object')"
   ]
  },
  {
   "cell_type": "code",
   "execution_count": 10,
   "metadata": {},
   "outputs": [
    {
     "data": {
      "text/plain": [
       "ID                          661\n",
       "Year of Income                3\n",
       "Career                        3\n",
       "Gender                        2\n",
       "Qualified Practice 1         21\n",
       "Partial Task                  9\n",
       "Midterm Exam                 21\n",
       "Qualified Practice 2         24\n",
       "Final Task                   15\n",
       "Participation in Class       13\n",
       "Final Exam                   23\n",
       "Linguistic Comprehension     20\n",
       "Mathematic                   19\n",
       "Final average               177\n",
       "Target                        2\n",
       "Output Feature 2              2\n",
       "dtype: int64"
      ]
     },
     "execution_count": 10,
     "metadata": {},
     "output_type": "execute_result"
    }
   ],
   "source": [
    "# check number of unique values\n",
    "df.nunique()"
   ]
  },
  {
   "cell_type": "markdown",
   "metadata": {},
   "source": [
    "We see ID is a unique identifier for each row. We can drop it as it does not add any value to our analysis. We will also drop Output Feature 2 as we are not going to use it in our analysis."
   ]
  },
  {
   "cell_type": "code",
   "execution_count": 11,
   "metadata": {},
   "outputs": [],
   "source": [
    "# drop redundant columns\n",
    "df.drop(['ID','Qualified Practice 2','Final Task','Midterm Exam','Participation in Class','Final Exam','Linguistic Comprehension','Mathematic', 'Output Feature 2','Final average'], axis=1, inplace=True)"
   ]
  },
  {
   "cell_type": "code",
   "execution_count": 12,
   "metadata": {},
   "outputs": [
    {
     "data": {
      "text/html": [
       "<div>\n",
       "<style scoped>\n",
       "    .dataframe tbody tr th:only-of-type {\n",
       "        vertical-align: middle;\n",
       "    }\n",
       "\n",
       "    .dataframe tbody tr th {\n",
       "        vertical-align: top;\n",
       "    }\n",
       "\n",
       "    .dataframe thead th {\n",
       "        text-align: right;\n",
       "    }\n",
       "</style>\n",
       "<table border=\"1\" class=\"dataframe\">\n",
       "  <thead>\n",
       "    <tr style=\"text-align: right;\">\n",
       "      <th></th>\n",
       "      <th>Year of Income</th>\n",
       "      <th>Career</th>\n",
       "      <th>Gender</th>\n",
       "      <th>Qualified Practice 1</th>\n",
       "      <th>Partial Task</th>\n",
       "      <th>Target</th>\n",
       "    </tr>\n",
       "  </thead>\n",
       "  <tbody>\n",
       "    <tr>\n",
       "      <th>0</th>\n",
       "      <td>2022</td>\n",
       "      <td>ISI</td>\n",
       "      <td>M</td>\n",
       "      <td>9</td>\n",
       "      <td>19.0</td>\n",
       "      <td>Approved</td>\n",
       "    </tr>\n",
       "    <tr>\n",
       "      <th>1</th>\n",
       "      <td>2022</td>\n",
       "      <td>ISI</td>\n",
       "      <td>F</td>\n",
       "      <td>15</td>\n",
       "      <td>20.0</td>\n",
       "      <td>Approved</td>\n",
       "    </tr>\n",
       "    <tr>\n",
       "      <th>2</th>\n",
       "      <td>2022</td>\n",
       "      <td>ISI</td>\n",
       "      <td>M</td>\n",
       "      <td>6</td>\n",
       "      <td>0.0</td>\n",
       "      <td>Disapproved</td>\n",
       "    </tr>\n",
       "    <tr>\n",
       "      <th>3</th>\n",
       "      <td>2022</td>\n",
       "      <td>ISI</td>\n",
       "      <td>M</td>\n",
       "      <td>20</td>\n",
       "      <td>20.0</td>\n",
       "      <td>Approved</td>\n",
       "    </tr>\n",
       "    <tr>\n",
       "      <th>4</th>\n",
       "      <td>2022</td>\n",
       "      <td>ISI</td>\n",
       "      <td>M</td>\n",
       "      <td>6</td>\n",
       "      <td>16.0</td>\n",
       "      <td>Disapproved</td>\n",
       "    </tr>\n",
       "  </tbody>\n",
       "</table>\n",
       "</div>"
      ],
      "text/plain": [
       "  Year of Income Career Gender  Qualified Practice 1  Partial Task  \\\n",
       "0           2022    ISI      M                     9          19.0   \n",
       "1           2022    ISI      F                    15          20.0   \n",
       "2           2022    ISI      M                     6           0.0   \n",
       "3           2022    ISI      M                    20          20.0   \n",
       "4           2022    ISI      M                     6          16.0   \n",
       "\n",
       "        Target  \n",
       "0     Approved  \n",
       "1     Approved  \n",
       "2  Disapproved  \n",
       "3     Approved  \n",
       "4  Disapproved  "
      ]
     },
     "execution_count": 12,
     "metadata": {},
     "output_type": "execute_result"
    }
   ],
   "source": [
    "df.head()"
   ]
  },
  {
   "cell_type": "markdown",
   "metadata": {},
   "source": [
    "##### Univariate Analysis of Numerical Features"
   ]
  },
  {
   "cell_type": "code",
   "execution_count": 13,
   "metadata": {},
   "outputs": [
    {
     "name": "stdout",
     "output_type": "stream",
     "text": [
      "Feature Name: Qualified Practice 1\n",
      "Mean: 12.198184568835098\n",
      "Median: 13.0\n",
      "Standard Deviation: 6.192497638453004\n",
      "Minimum: 0\n",
      "Maximum: 20\n",
      "Skewness: -0.28684268074828206\n",
      "Kurtosis: -1.067693743032935\n"
     ]
    },
    {
     "data": {
      "image/png": "[encoded data removed]",
      "text/plain": [
       "<Figure size 432x288 with 1 Axes>"
      ]
     },
     "metadata": {
      "needs_background": "light"
     },
     "output_type": "display_data"
    },
    {
     "data": {
      "image/png": "[encoded data removed]",
      "text/plain": [
       "<Figure size 432x288 with 1 Axes>"
      ]
     },
     "metadata": {
      "needs_background": "light"
     },
     "output_type": "display_data"
    },
    {
     "name": "stdout",
     "output_type": "stream",
     "text": [
      "----------------------------------------\n",
      "Feature Name: Partial Task\n",
      "Mean: 17.89409984871407\n",
      "Median: 18.0\n",
      "Standard Deviation: 2.1357657733234685\n",
      "Minimum: 0.0\n",
      "Maximum: 20.0\n",
      "Skewness: -3.7954802882639673\n",
      "Kurtosis: 28.171000611134698\n"
     ]
    },
    {
     "data": {
      "image/png": "[encoded data removed]",
      "text/plain": [
       "<Figure size 432x288 with 1 Axes>"
      ]
     },
     "metadata": {
      "needs_background": "light"
     },
     "output_type": "display_data"
    },
    {
     "data": {
      "image/png": "[encoded data removed]",
      "text/plain": [
       "<Figure size 432x288 with 1 Axes>"
      ]
     },
     "metadata": {
      "needs_background": "light"
     },
     "output_type": "display_data"
    },
    {
     "name": "stdout",
     "output_type": "stream",
     "text": [
      "----------------------------------------\n"
     ]
    }
   ],
   "source": [
    "# Univariate analysis for numerical columns\n",
    "num_cols = df.select_dtypes(include=[np.number]).columns\n",
    "for col in num_cols:\n",
    "    print('Feature Name:', col)\n",
    "    print('Mean:', df[col].mean())\n",
    "    print('Median:', df[col].median())\n",
    "    print('Standard Deviation:', df[col].std())\n",
    "    print('Minimum:', df[col].min())\n",
    "    print('Maximum:', df[col].max())\n",
    "    print('Skewness:', df[col].skew())\n",
    "    print('Kurtosis:', df[col].kurtosis())\n",
    "    sns.distplot(df[col], kde=True)\n",
    "    plt.show()\n",
    "    sns.boxplot(df[col])\n",
    "    plt.show()\n",
    "    print('----------------------------------------')"
   ]
  },
  {
   "cell_type": "markdown",
   "metadata": {},
   "source": [
    "Observations:\n",
    "- Qualififed Practice 1 and 2 seems normally distributed with no presence of outliers.\n",
    "- Partial Task seems negatively skewed with presence of outliers. This indicate more students tend to achieve higher scores.\n",
    "- Midterm Exam seems normally distributed with no presence of outliers.\n",
    "- Final Task seems negatively skewed but no presence of outliers can be observed.\n",
    "- Participation in Class seems negatively skewed with presence of outliers. A high number of students can be observed with next to zero participation.\n",
    "- Final Exam seems normally distributed with no presence of outliers.\n",
    "- Linguistic Comprehension and Mathematics seems negatively skewed with presence of outliers.\n",
    "- Output is normally distributed with no outliers."
   ]
  },
  {
   "cell_type": "markdown",
   "metadata": {},
   "source": [
    "##### Univariate Analysis of Categorical Features"
   ]
  },
  {
   "cell_type": "code",
   "execution_count": 14,
   "metadata": {},
   "outputs": [
    {
     "data": {
      "image/png": "[encoded data removed]",
      "text/plain": [
       "<Figure size 864x576 with 4 Axes>"
      ]
     },
     "metadata": {
      "needs_background": "light"
     },
     "output_type": "display_data"
    }
   ],
   "source": [
    "cat_cols = df.select_dtypes(include=['object']).columns\n",
    "\n",
    "plot_count = 1\n",
    "plt.figure(figsize = (12,8))\n",
    "for col in cat_cols:\n",
    "    plt.subplot(2, 2, plot_count)\n",
    "    plt.gca().set_title(col)\n",
    "    sns.countplot(x=col, data=df, palette='Set2')\n",
    "    plt.xticks(rotation=45)\n",
    "    plot_count += 1\n",
    "plt.tight_layout()\n",
    "plt.show()"
   ]
  },
  {
   "cell_type": "markdown",
   "metadata": {},
   "source": [
    "Observations:\n",
    "- Imbalanced distribution for Year of Income and Sex.\n",
    "- Target Variable, i.e., Output Feature 1 is balanced."
   ]
  },
  {
   "cell_type": "markdown",
   "metadata": {},
   "source": [
    "##### Multivariate Analysis of Categorical Features"
   ]
  },
  {
   "cell_type": "code",
   "execution_count": 15,
   "metadata": {},
   "outputs": [
    {
     "data": {
      "image/png": "[encoded data removed]",
      "text/plain": [
       "<Figure size 720x576 with 4 Axes>"
      ]
     },
     "metadata": {
      "needs_background": "light"
     },
     "output_type": "display_data"
    }
   ],
   "source": [
    "# check bar plots of all categorical variables with target variable\n",
    "fig, ax = plt.subplots(2, 2, figsize=(10, 8))\n",
    "\n",
    "# make plots\n",
    "for variable, subplot in zip(cat_cols, ax.flatten()):\n",
    "    sns.countplot(x=variable, data=df, hue='Target', ax=subplot)\n",
    "    for label in subplot.get_xticklabels():\n",
    "        label.set_rotation(90)\n",
    "plt.tight_layout()\n",
    "plt.show()"
   ]
  },
  {
   "cell_type": "markdown",
   "metadata": {},
   "source": [
    "##### Multivariate Analysis of Numerical Features"
   ]
  },
  {
   "cell_type": "code",
   "execution_count": 16,
   "metadata": {},
   "outputs": [],
   "source": [
    "# label encode target variable using map\n",
    "df['Target'] = df['Target'].map({'Disapproved': 0, 'Approved': 1})"
   ]
  },
  {
   "cell_type": "code",
   "execution_count": 17,
   "metadata": {},
   "outputs": [
    {
     "data": {
      "image/png": "[encoded data removed]",
      "text/plain": [
       "<Figure size 720x576 with 2 Axes>"
      ]
     },
     "metadata": {
      "needs_background": "light"
     },
     "output_type": "display_data"
    }
   ],
   "source": [
    "# correlation heatmap for numerical columns\n",
    "plt.figure(figsize=(10,8))\n",
    "sns.heatmap(df.corr(), annot=True, cmap='coolwarm')\n",
    "plt.show()"
   ]
  },
  {
   "cell_type": "markdown",
   "metadata": {},
   "source": [
    "##### Data Augmentation (SMOTE)"
   ]
  },
  {
   "cell_type": "code",
   "execution_count": 18,
   "metadata": {},
   "outputs": [],
   "source": [
    "# label encode categorical columns\n",
    "le = LabelEncoder()\n",
    "for col in cat_cols:\n",
    "    df[col] = le.fit_transform(df[col])"
   ]
  },
  {
   "cell_type": "code",
   "execution_count": 19,
   "metadata": {},
   "outputs": [
    {
     "data": {
      "text/html": [
       "<div>\n",
       "<style scoped>\n",
       "    .dataframe tbody tr th:only-of-type {\n",
       "        vertical-align: middle;\n",
       "    }\n",
       "\n",
       "    .dataframe tbody tr th {\n",
       "        vertical-align: top;\n",
       "    }\n",
       "\n",
       "    .dataframe thead th {\n",
       "        text-align: right;\n",
       "    }\n",
       "</style>\n",
       "<table border=\"1\" class=\"dataframe\">\n",
       "  <thead>\n",
       "    <tr style=\"text-align: right;\">\n",
       "      <th></th>\n",
       "      <th>Year of Income</th>\n",
       "      <th>Career</th>\n",
       "      <th>Gender</th>\n",
       "      <th>Qualified Practice 1</th>\n",
       "      <th>Partial Task</th>\n",
       "      <th>Target</th>\n",
       "    </tr>\n",
       "  </thead>\n",
       "  <tbody>\n",
       "    <tr>\n",
       "      <th>0</th>\n",
       "      <td>2</td>\n",
       "      <td>1</td>\n",
       "      <td>1</td>\n",
       "      <td>9</td>\n",
       "      <td>19.0</td>\n",
       "      <td>1</td>\n",
       "    </tr>\n",
       "    <tr>\n",
       "      <th>1</th>\n",
       "      <td>2</td>\n",
       "      <td>1</td>\n",
       "      <td>0</td>\n",
       "      <td>15</td>\n",
       "      <td>20.0</td>\n",
       "      <td>1</td>\n",
       "    </tr>\n",
       "    <tr>\n",
       "      <th>2</th>\n",
       "      <td>2</td>\n",
       "      <td>1</td>\n",
       "      <td>1</td>\n",
       "      <td>6</td>\n",
       "      <td>0.0</td>\n",
       "      <td>0</td>\n",
       "    </tr>\n",
       "    <tr>\n",
       "      <th>3</th>\n",
       "      <td>2</td>\n",
       "      <td>1</td>\n",
       "      <td>1</td>\n",
       "      <td>20</td>\n",
       "      <td>20.0</td>\n",
       "      <td>1</td>\n",
       "    </tr>\n",
       "    <tr>\n",
       "      <th>4</th>\n",
       "      <td>2</td>\n",
       "      <td>1</td>\n",
       "      <td>1</td>\n",
       "      <td>6</td>\n",
       "      <td>16.0</td>\n",
       "      <td>0</td>\n",
       "    </tr>\n",
       "    <tr>\n",
       "      <th>...</th>\n",
       "      <td>...</td>\n",
       "      <td>...</td>\n",
       "      <td>...</td>\n",
       "      <td>...</td>\n",
       "      <td>...</td>\n",
       "      <td>...</td>\n",
       "    </tr>\n",
       "    <tr>\n",
       "      <th>662</th>\n",
       "      <td>1</td>\n",
       "      <td>2</td>\n",
       "      <td>1</td>\n",
       "      <td>19</td>\n",
       "      <td>18.0</td>\n",
       "      <td>1</td>\n",
       "    </tr>\n",
       "    <tr>\n",
       "      <th>663</th>\n",
       "      <td>1</td>\n",
       "      <td>2</td>\n",
       "      <td>1</td>\n",
       "      <td>11</td>\n",
       "      <td>18.0</td>\n",
       "      <td>1</td>\n",
       "    </tr>\n",
       "    <tr>\n",
       "      <th>664</th>\n",
       "      <td>1</td>\n",
       "      <td>2</td>\n",
       "      <td>1</td>\n",
       "      <td>18</td>\n",
       "      <td>18.0</td>\n",
       "      <td>1</td>\n",
       "    </tr>\n",
       "    <tr>\n",
       "      <th>665</th>\n",
       "      <td>1</td>\n",
       "      <td>2</td>\n",
       "      <td>1</td>\n",
       "      <td>18</td>\n",
       "      <td>19.0</td>\n",
       "      <td>1</td>\n",
       "    </tr>\n",
       "    <tr>\n",
       "      <th>666</th>\n",
       "      <td>1</td>\n",
       "      <td>2</td>\n",
       "      <td>1</td>\n",
       "      <td>4</td>\n",
       "      <td>16.0</td>\n",
       "      <td>1</td>\n",
       "    </tr>\n",
       "  </tbody>\n",
       "</table>\n",
       "<p>661 rows × 6 columns</p>\n",
       "</div>"
      ],
      "text/plain": [
       "     Year of Income  Career  Gender  Qualified Practice 1  Partial Task  \\\n",
       "0                 2       1       1                     9          19.0   \n",
       "1                 2       1       0                    15          20.0   \n",
       "2                 2       1       1                     6           0.0   \n",
       "3                 2       1       1                    20          20.0   \n",
       "4                 2       1       1                     6          16.0   \n",
       "..              ...     ...     ...                   ...           ...   \n",
       "662               1       2       1                    19          18.0   \n",
       "663               1       2       1                    11          18.0   \n",
       "664               1       2       1                    18          18.0   \n",
       "665               1       2       1                    18          19.0   \n",
       "666               1       2       1                     4          16.0   \n",
       "\n",
       "     Target  \n",
       "0         1  \n",
       "1         1  \n",
       "2         0  \n",
       "3         1  \n",
       "4         0  \n",
       "..      ...  \n",
       "662       1  \n",
       "663       1  \n",
       "664       1  \n",
       "665       1  \n",
       "666       1  \n",
       "\n",
       "[661 rows x 6 columns]"
      ]
     },
     "execution_count": 19,
     "metadata": {},
     "output_type": "execute_result"
    }
   ],
   "source": [
    "df"
   ]
  },
  {
   "cell_type": "code",
   "execution_count": 20,
   "metadata": {},
   "outputs": [],
   "source": [
    "# seperate 20% of data for testing\n",
    "X = df.drop('Target', axis=1)\n",
    "y = df['Target']\n",
    "\n",
    "X_train, X_test, y_train, y_test = train_test_split(X, y, test_size=0.2, random_state=42, stratify=y)"
   ]
  },
  {
   "cell_type": "code",
   "execution_count": 21,
   "metadata": {},
   "outputs": [
    {
     "data": {
      "text/plain": [
       "((528, 5), (133, 5))"
      ]
     },
     "execution_count": 21,
     "metadata": {},
     "output_type": "execute_result"
    }
   ],
   "source": [
    "X_train.shape, X_test.shape"
   ]
  },
  {
   "cell_type": "code",
   "execution_count": 22,
   "metadata": {},
   "outputs": [],
   "source": [
    "# scale data\n",
    "#scaler = MinMaxScaler(feature_range=(-1, 1))\n",
    "#X_train = scaler.fit_transform(X_train)\n",
    "#X_test = scaler.transform(X_test)"
   ]
  },
  {
   "cell_type": "code",
   "execution_count": 23,
   "metadata": {},
   "outputs": [],
   "source": [
    "# SMOTE\n",
    "#smote = SMOTE(sampling_strategy={1: 1000, 0: 1000}, random_state=42)\n",
    "#X_train, y_train = smote.fit_resample(X_train, y_train)"
   ]
  },
  {
   "cell_type": "code",
   "execution_count": 24,
   "metadata": {},
   "outputs": [
    {
     "name": "stdout",
     "output_type": "stream",
     "text": [
      "(528, 5) (528,)\n"
     ]
    }
   ],
   "source": [
    "# check new training data\n",
    "print(X_train.shape, y_train.shape)"
   ]
  },
  {
   "cell_type": "code",
   "execution_count": 25,
   "metadata": {},
   "outputs": [
    {
     "name": "stdout",
     "output_type": "stream",
     "text": [
      "(133, 5) (133,)\n"
     ]
    }
   ],
   "source": [
    "# verify test data shape\n",
    "print(X_test.shape, y_test.shape)"
   ]
  },
  {
   "cell_type": "markdown",
   "metadata": {},
   "source": [
    "##### **Models Testing (Cross Validation)**"
   ]
  },
  {
   "cell_type": "code",
   "execution_count": 26,
   "metadata": {},
   "outputs": [],
   "source": [
    "# results_df to store results\n",
    "results_df = pd.DataFrame(columns=['Model', 'Accuracy', 'Precision', 'Recall', 'F1 Score'])"
   ]
  },
  {
   "cell_type": "code",
   "execution_count": 27,
   "metadata": {},
   "outputs": [],
   "source": [
    "# function to do cv and return mean scores\n",
    "def cv_scores(model_name, model):\n",
    "\n",
    "    # define cv\n",
    "    kf = KFold(n_splits=5)\n",
    "\n",
    "    # define empty lists to store scores\n",
    "    recall_scores = []\n",
    "    precision_scores = []\n",
    "    f1_scores = []\n",
    "    accuracy_scores = []\n",
    "\n",
    "    print(f'Evaluating {model_name} model...')\n",
    "    \n",
    "    # loop through cv\n",
    "    for train_index, test_index in kf.split(X_train, y_train):\n",
    "        print('Starting fold...')\n",
    "        \n",
    "        X_train_cv, X_test_cv = X_train.iloc[train_index], X_train.iloc[test_index]\n",
    "        y_train_cv, y_test_cv = y_train.iloc[train_index], y_train.iloc[test_index]\n",
    "        \n",
    "        \n",
    "        #X_train_cv, X_test_cv = X_train[train_index], X_train[test_index]\n",
    "        #y_train_cv, y_test_cv = y_train[train_index], y_train[test_index]\n",
    "        \n",
    "        model.fit(X_train_cv, y_train_cv)\n",
    "        y_pred = model.predict(X_test_cv)\n",
    "        \n",
    "        recall_scores.append(recall_score(y_test_cv, y_pred))\n",
    "        precision_scores.append(precision_score(y_test_cv, y_pred))\n",
    "        f1_scores.append(f1_score(y_test_cv, y_pred))\n",
    "        accuracy_scores.append(accuracy_score(y_test_cv, y_pred))\n",
    "\n",
    "    if model_name not in results_df['Model'].values:\n",
    "        results_df.loc[len(results_df)] = [model_name, np.mean(accuracy_scores), np.mean(precision_scores), np.mean(recall_scores), np.mean(f1_scores)]"
   ]
  },
  {
   "cell_type": "code",
   "execution_count": 28,
   "metadata": {},
   "outputs": [],
   "source": [
    "# models to test\n",
    "models_dict = {\n",
    "    'Decision Tree': DecisionTreeClassifier(random_state=42),\n",
    "    'Random Forest': RandomForestClassifier(random_state=42, n_jobs=-1),\n",
    "    'Logistic Regression': LogisticRegression(random_state=42, n_jobs=-1),\n",
    "    'Support Vector Machine': SVC(random_state=42),\n",
    "    'K Nearest Neighbors': KNeighborsClassifier(n_jobs=-1)\n",
    "}"
   ]
  },
  {
   "cell_type": "code",
   "execution_count": 29,
   "metadata": {},
   "outputs": [
    {
     "name": "stdout",
     "output_type": "stream",
     "text": [
      "Evaluating Decision Tree model...\n",
      "Starting fold...\n",
      "Starting fold...\n",
      "Starting fold...\n",
      "Starting fold...\n",
      "Starting fold...\n",
      "Evaluating Random Forest model...\n",
      "Starting fold...\n",
      "Starting fold...\n",
      "Starting fold...\n",
      "Starting fold...\n",
      "Starting fold...\n",
      "Evaluating Logistic Regression model...\n",
      "Starting fold...\n",
      "Starting fold...\n",
      "Starting fold...\n",
      "Starting fold...\n",
      "Starting fold...\n",
      "Evaluating Support Vector Machine model...\n",
      "Starting fold...\n",
      "Starting fold...\n",
      "Starting fold...\n",
      "Starting fold...\n",
      "Starting fold...\n",
      "Evaluating K Nearest Neighbors model...\n",
      "Starting fold...\n",
      "Starting fold...\n",
      "Starting fold...\n",
      "Starting fold...\n",
      "Starting fold...\n"
     ]
    }
   ],
   "source": [
    "# evaluate models\n",
    "for model_name, model in models_dict.items():\n",
    "    cv_scores(model_name, model)\n",
    "   "
   ]
  },
  {
   "cell_type": "code",
   "execution_count": 30,
   "metadata": {},
   "outputs": [],
   "source": [
    "# Function to create a Keras model\n",
    "def create_model(input_shape, num_classes):\n",
    "    model = Sequential()\n",
    "    model.add(Dense(64, activation='relu', input_shape=input_shape))\n",
    "    model.add(Dense(32, activation='relu'))\n",
    "    model.add(Dense(num_classes, activation='softmax'))\n",
    "    model.compile(optimizer='adam', loss='categorical_crossentropy', metrics=['accuracy'])\n",
    "    #print(model.summary())\n",
    "    return model\n",
    "\n",
    "# Function to do cv and return mean scores\n",
    "def cv_scores_keras(model_name, X, y, epochs=20, batch_size=32):\n",
    "\n",
    "    # define cv\n",
    "    kf = KFold(n_splits=5, shuffle=True, random_state=42)\n",
    "\n",
    "    # define empty lists to store scores\n",
    "    recall_scores = []\n",
    "    precision_scores = []\n",
    "    f1_scores = []\n",
    "    accuracy_scores = []\n",
    "\n",
    "    print(f'Evaluating {model_name} model...')\n",
    "    \n",
    "    # loop through cv\n",
    "    for train_index, test_index in kf.split(X, y):\n",
    "        print('Starting fold...')\n",
    "        X_train, X_test = X.iloc[train_index], X.iloc[test_index]\n",
    "        y_train, y_test = y.iloc[train_index], y.iloc[test_index]\n",
    "        \n",
    "        #X_train, X_test = X[train_index], X[test_index]\n",
    "        #y_train, y_test = y[train_index], y[test_index]\n",
    "\n",
    "        # convert labels to one-hot encoded format\n",
    "        y_train_one_hot = to_categorical(y_train)\n",
    "        y_test_one_hot = to_categorical(y_test)\n",
    "\n",
    "        # create a new model for each fold\n",
    "        model = create_model(input_shape=(X_train.shape[1],), num_classes=y_train_one_hot.shape[1])\n",
    "\n",
    "        # fit the model\n",
    "        model.fit(X_train, y_train_one_hot, epochs=epochs, batch_size=batch_size, verbose=0)\n",
    "\n",
    "        # predict the classes\n",
    "        y_pred = np.argmax(model.predict(X_test), axis=-1)\n",
    "        \n",
    "        recall_scores.append(recall_score(y_test, y_pred, average='weighted'))\n",
    "        precision_scores.append(precision_score(y_test, y_pred, average='weighted'))\n",
    "        f1_scores.append(f1_score(y_test, y_pred, average='weighted'))\n",
    "        accuracy_scores.append(accuracy_score(y_test, y_pred))\n",
    "\n",
    "    if model_name not in results_df['Model'].values:\n",
    "        results_df.loc[len(results_df)] = [model_name, np.mean(accuracy_scores), np.mean(precision_scores), np.mean(recall_scores), np.mean(f1_scores)]"
   ]
  },
  {
   "cell_type": "code",
   "execution_count": 31,
   "metadata": {},
   "outputs": [
    {
     "name": "stdout",
     "output_type": "stream",
     "text": [
      "Evaluating Keras DNN model...\n",
      "Starting fold...\n",
      "Starting fold...\n",
      "Starting fold...\n",
      "Starting fold...\n",
      "Starting fold...\n"
     ]
    }
   ],
   "source": [
    "# evaluate DNN\n",
    "cv_scores_keras('Keras DNN', X_train, y_train)"
   ]
  },
  {
   "cell_type": "code",
   "execution_count": 32,
   "metadata": {},
   "outputs": [],
   "source": [
    "# Function to create an LSTM Keras model\n",
    "def create_lstm_model(input_shape, num_classes):\n",
    "    model = Sequential()\n",
    "    model.add(LSTM(64, activation='relu', input_shape=input_shape, return_sequences=True))\n",
    "    model.add(LSTM(32, activation='relu'))\n",
    "    model.add(Dense(num_classes, activation='softmax'))\n",
    "    model.compile(optimizer='adam', loss='categorical_crossentropy', metrics=['accuracy'])\n",
    "    #print(model.summary())\n",
    "    return model\n",
    "\n",
    "# Function to do cv and return mean scores\n",
    "def cv_scores_keras_lstm(model_name, X, y, epochs=20, batch_size=32):\n",
    "\n",
    "    # Reshape input data for LSTM (samples, timesteps, features)\n",
    "    #X = X.values.reshape(X.shape[0], X.shape[1], 1)\n",
    " \n",
    "\n",
    "    # define cv\n",
    "    kf = KFold(n_splits=5, shuffle=True, random_state=42)\n",
    "\n",
    "    # define empty lists to store scores\n",
    "    recall_scores = []\n",
    "    precision_scores = []\n",
    "    f1_scores = []\n",
    "    accuracy_scores = []\n",
    "\n",
    "    print(f'Evaluating {model_name} model...')\n",
    "    \n",
    "    # loop through cv\n",
    "    for train_index, test_index in kf.split(X, y):\n",
    "        print('Starting fold...')\n",
    "        X_train, X_test = X.iloc[train_index], X.iloc[test_index]\n",
    "        y_train, y_test = y.iloc[train_index], y.iloc[test_index]\n",
    "        \n",
    "        #X_train, X_test = X[train_index], X[test_index]\n",
    "        #y_train, y_test = y[train_index], y[test_index]\n",
    "\n",
    "        # convert labels to one-hot encoded format\n",
    "        y_train_one_hot = to_categorical(y_train)\n",
    "        y_test_one_hot = to_categorical(y_test)\n",
    "\n",
    "        # create a new model for each fold\n",
    "        model = create_lstm_model(input_shape=(X_train.shape[1], 1), num_classes=y_train_one_hot.shape[1])\n",
    "\n",
    "        # fit the model\n",
    "        model.fit(X_train, y_train_one_hot, epochs=epochs, batch_size=batch_size, verbose=0)\n",
    "\n",
    "        # predict the classes\n",
    "        y_pred = np.argmax(model.predict(X_test), axis=-1)\n",
    "        \n",
    "        recall_scores.append(recall_score(y_test, y_pred, average='weighted'))\n",
    "        precision_scores.append(precision_score(y_test, y_pred, average='weighted'))\n",
    "        f1_scores.append(f1_score(y_test, y_pred, average='weighted'))\n",
    "        accuracy_scores.append(accuracy_score(y_test, y_pred))\n",
    "\n",
    "    if model_name not in results_df['Model'].values:\n",
    "        results_df.loc[len(results_df)] = [model_name, np.mean(accuracy_scores), np.mean(precision_scores), np.mean(recall_scores), np.mean(f1_scores)]\n"
   ]
  },
  {
   "cell_type": "code",
   "execution_count": 33,
   "metadata": {},
   "outputs": [
    {
     "name": "stdout",
     "output_type": "stream",
     "text": [
      "Evaluating Keras LSTM model...\n",
      "Starting fold...\n",
      "Starting fold...\n",
      "Starting fold...\n",
      "Starting fold...\n",
      "Starting fold...\n"
     ]
    }
   ],
   "source": [
    "# evaluate LSTM\n",
    "cv_scores_keras_lstm('Keras LSTM', X_train, y_train)"
   ]
  },
  {
   "cell_type": "code",
   "execution_count": 34,
   "metadata": {},
   "outputs": [
    {
     "data": {
      "text/html": [
       "<div>\n",
       "<style scoped>\n",
       "    .dataframe tbody tr th:only-of-type {\n",
       "        vertical-align: middle;\n",
       "    }\n",
       "\n",
       "    .dataframe tbody tr th {\n",
       "        vertical-align: top;\n",
       "    }\n",
       "\n",
       "    .dataframe thead th {\n",
       "        text-align: right;\n",
       "    }\n",
       "</style>\n",
       "<table border=\"1\" class=\"dataframe\">\n",
       "  <thead>\n",
       "    <tr style=\"text-align: right;\">\n",
       "      <th></th>\n",
       "      <th>Model</th>\n",
       "      <th>Accuracy</th>\n",
       "      <th>Precision</th>\n",
       "      <th>Recall</th>\n",
       "      <th>F1 Score</th>\n",
       "    </tr>\n",
       "  </thead>\n",
       "  <tbody>\n",
       "    <tr>\n",
       "      <th>1</th>\n",
       "      <td>Random Forest</td>\n",
       "      <td>0.809</td>\n",
       "      <td>0.850</td>\n",
       "      <td>0.875</td>\n",
       "      <td>0.862</td>\n",
       "    </tr>\n",
       "    <tr>\n",
       "      <th>4</th>\n",
       "      <td>K Nearest Neighbors</td>\n",
       "      <td>0.805</td>\n",
       "      <td>0.832</td>\n",
       "      <td>0.894</td>\n",
       "      <td>0.862</td>\n",
       "    </tr>\n",
       "    <tr>\n",
       "      <th>0</th>\n",
       "      <td>Decision Tree</td>\n",
       "      <td>0.813</td>\n",
       "      <td>0.872</td>\n",
       "      <td>0.849</td>\n",
       "      <td>0.860</td>\n",
       "    </tr>\n",
       "    <tr>\n",
       "      <th>3</th>\n",
       "      <td>Support Vector Machine</td>\n",
       "      <td>0.780</td>\n",
       "      <td>0.797</td>\n",
       "      <td>0.907</td>\n",
       "      <td>0.848</td>\n",
       "    </tr>\n",
       "    <tr>\n",
       "      <th>2</th>\n",
       "      <td>Logistic Regression</td>\n",
       "      <td>0.775</td>\n",
       "      <td>0.802</td>\n",
       "      <td>0.885</td>\n",
       "      <td>0.841</td>\n",
       "    </tr>\n",
       "    <tr>\n",
       "      <th>6</th>\n",
       "      <td>Keras LSTM</td>\n",
       "      <td>0.765</td>\n",
       "      <td>0.774</td>\n",
       "      <td>0.765</td>\n",
       "      <td>0.758</td>\n",
       "    </tr>\n",
       "    <tr>\n",
       "      <th>5</th>\n",
       "      <td>Keras DNN</td>\n",
       "      <td>0.763</td>\n",
       "      <td>0.765</td>\n",
       "      <td>0.763</td>\n",
       "      <td>0.756</td>\n",
       "    </tr>\n",
       "  </tbody>\n",
       "</table>\n",
       "</div>"
      ],
      "text/plain": [
       "                    Model  Accuracy  Precision  Recall  F1 Score\n",
       "1           Random Forest     0.809      0.850   0.875     0.862\n",
       "4     K Nearest Neighbors     0.805      0.832   0.894     0.862\n",
       "0           Decision Tree     0.813      0.872   0.849     0.860\n",
       "3  Support Vector Machine     0.780      0.797   0.907     0.848\n",
       "2     Logistic Regression     0.775      0.802   0.885     0.841\n",
       "6              Keras LSTM     0.765      0.774   0.765     0.758\n",
       "5               Keras DNN     0.763      0.765   0.763     0.756"
      ]
     },
     "execution_count": 34,
     "metadata": {},
     "output_type": "execute_result"
    }
   ],
   "source": [
    "# check results of CV evaluation\n",
    "results_df.sort_values(by='F1 Score', ascending=False).round(3)"
   ]
  },
  {
   "cell_type": "markdown",
   "metadata": {},
   "source": [
    "##### **Hold-Out Set Evaluation**"
   ]
  },
  {
   "cell_type": "code",
   "execution_count": 35,
   "metadata": {},
   "outputs": [],
   "source": [
    "# function to evaluate on hold out set and create confusion matrix of a model\n",
    "def plot_confusion_matrix(model_name, model, X_train, y_train, X_test, y_test):\n",
    "\n",
    "    # fit model\n",
    "    model.fit(X_train, y_train)\n",
    "\n",
    "    # predict classes\n",
    "    y_pred = model.predict(X_test)\n",
    "\n",
    "    # scores\n",
    "    print(f'\\n\\nModel Name: {model_name}')\n",
    "    print(f'Accuracy: {accuracy_score(y_test, y_pred)}')\n",
    "    print(f'Precision: {precision_score(y_test, y_pred)}')\n",
    "    print(f'Recall: {recall_score(y_test, y_pred)}')\n",
    "    print(f'F1 Score: {f1_score(y_test, y_pred)}')\n",
    "\n",
    "    # create confusion matrix\n",
    "    cm = confusion_matrix(y_test, y_pred)\n",
    "    cm = pd.DataFrame(cm, columns=['Predicted 0', 'Predicted 1'], index=['Actual 0', 'Actual 1'])\n",
    "    plt.figure(figsize=(4, 3))\n",
    "    sns.heatmap(cm, annot=True, fmt='g', cmap='Blues')\n",
    "    plt.title(f'Confusion Matrix for {model_name}')\n",
    "    plt.show()"
   ]
  },
  {
   "cell_type": "code",
   "execution_count": 36,
   "metadata": {},
   "outputs": [
    {
     "name": "stdout",
     "output_type": "stream",
     "text": [
      "\n",
      "\n",
      "Model Name: Decision Tree\n",
      "Accuracy: 0.7969924812030075\n",
      "Precision: 0.9\n",
      "Recall: 0.7912087912087912\n",
      "F1 Score: 0.8421052631578948\n"
     ]
    },
    {
     "data": {
      "image/png": "[encoded data removed]",
      "text/plain": [
       "<Figure size 288x216 with 2 Axes>"
      ]
     },
     "metadata": {
      "needs_background": "light"
     },
     "output_type": "display_data"
    },
    {
     "name": "stdout",
     "output_type": "stream",
     "text": [
      "\n",
      "\n",
      "Model Name: Random Forest\n",
      "Accuracy: 0.8195488721804511\n",
      "Precision: 0.8941176470588236\n",
      "Recall: 0.8351648351648352\n",
      "F1 Score: 0.8636363636363636\n"
     ]
    },
    {
     "data": {
      "image/png": "[encoded data removed]",
      "text/plain": [
       "<Figure size 288x216 with 2 Axes>"
      ]
     },
     "metadata": {
      "needs_background": "light"
     },
     "output_type": "display_data"
    },
    {
     "name": "stdout",
     "output_type": "stream",
     "text": [
      "\n",
      "\n",
      "Model Name: Logistic Regression\n",
      "Accuracy: 0.7744360902255639\n",
      "Precision: 0.8144329896907216\n",
      "Recall: 0.8681318681318682\n",
      "F1 Score: 0.8404255319148937\n"
     ]
    },
    {
     "data": {
      "image/png": "[encoded data removed]",
      "text/plain": [
       "<Figure size 288x216 with 2 Axes>"
      ]
     },
     "metadata": {
      "needs_background": "light"
     },
     "output_type": "display_data"
    },
    {
     "name": "stdout",
     "output_type": "stream",
     "text": [
      "\n",
      "\n",
      "Model Name: Support Vector Machine\n",
      "Accuracy: 0.7443609022556391\n",
      "Precision: 0.7821782178217822\n",
      "Recall: 0.8681318681318682\n",
      "F1 Score: 0.8229166666666666\n"
     ]
    },
    {
     "data": {
      "image/png": "[encoded data removed]",
      "text/plain": [
       "<Figure size 288x216 with 2 Axes>"
      ]
     },
     "metadata": {
      "needs_background": "light"
     },
     "output_type": "display_data"
    },
    {
     "name": "stdout",
     "output_type": "stream",
     "text": [
      "\n",
      "\n",
      "Model Name: K Nearest Neighbors\n",
      "Accuracy: 0.8045112781954887\n",
      "Precision: 0.8350515463917526\n",
      "Recall: 0.8901098901098901\n",
      "F1 Score: 0.8617021276595744\n"
     ]
    },
    {
     "data": {
      "image/png": "[encoded data removed]",
      "text/plain": [
       "<Figure size 288x216 with 2 Axes>"
      ]
     },
     "metadata": {
      "needs_background": "light"
     },
     "output_type": "display_data"
    }
   ],
   "source": [
    "# plot confusion matrix for all models\n",
    "for model_name, model in models_dict.items():\n",
    "    plot_confusion_matrix(model_name, model, X_train, y_train, X_test, y_test)"
   ]
  },
  {
   "cell_type": "code",
   "execution_count": 37,
   "metadata": {},
   "outputs": [
    {
     "name": "stdout",
     "output_type": "stream",
     "text": [
      "\n",
      "\n",
      "Model Name: Keras DNN\n",
      "Accuracy: 0.7293233082706767\n",
      "Precision: 0.7669902912621359\n",
      "Recall: 0.8681318681318682\n",
      "F1 Score: 0.8144329896907215\n"
     ]
    },
    {
     "data": {
      "image/png": "[encoded data removed]",
      "text/plain": [
       "<Figure size 288x216 with 2 Axes>"
      ]
     },
     "metadata": {
      "needs_background": "light"
     },
     "output_type": "display_data"
    }
   ],
   "source": [
    "# DNN model\n",
    "model = create_model(input_shape=(X_train.shape[1],), num_classes=2)\n",
    "\n",
    "# train model\n",
    "model.fit(X_train, to_categorical(y_train), epochs=20, batch_size=32, verbose=0)\n",
    "\n",
    "# get predictions\n",
    "y_pred = np.argmax(model.predict(X_test), axis=-1)\n",
    "\n",
    "# scores\n",
    "print(f'\\n\\nModel Name: Keras DNN')\n",
    "print(f'Accuracy: {accuracy_score(y_test, y_pred)}')\n",
    "print(f'Precision: {precision_score(y_test, y_pred)}')\n",
    "print(f'Recall: {recall_score(y_test, y_pred)}')\n",
    "print(f'F1 Score: {f1_score(y_test, y_pred)}')\n",
    "\n",
    "# create confusion matrix\n",
    "cm = confusion_matrix(y_test, y_pred)\n",
    "cm = pd.DataFrame(cm, columns=['Predicted 0', 'Predicted 1'], index=['Actual 0', 'Actual 1'])\n",
    "plt.figure(figsize=(4, 3))\n",
    "sns.heatmap(cm, annot=True, fmt='g', cmap='Blues')\n",
    "plt.title('Confusion Matrix for Keras DNN')\n",
    "plt.show()"
   ]
  },
  {
   "cell_type": "code",
   "execution_count": 38,
   "metadata": {},
   "outputs": [
    {
     "name": "stdout",
     "output_type": "stream",
     "text": [
      "\n",
      "\n",
      "Model Name: Keras LSTM\n",
      "Accuracy: 0.7443609022556391\n",
      "Precision: 0.7663551401869159\n",
      "Recall: 0.9010989010989011\n",
      "F1 Score: 0.8282828282828283\n"
     ]
    },
    {
     "data": {
      "image/png": "[encoded data removed]",
      "text/plain": [
       "<Figure size 288x216 with 2 Axes>"
      ]
     },
     "metadata": {
      "needs_background": "light"
     },
     "output_type": "display_data"
    }
   ],
   "source": [
    "# LSTM model\n",
    "lstm_model = create_lstm_model(input_shape=(X_train.shape[1], 1), num_classes=2)\n",
    "\n",
    "# Reshape input data for LSTM\n",
    "X_train_reshaped = X_train.values.reshape(X_train.values.shape[0], X_train.values.shape[1], 1)\n",
    "X_test_reshaped = X_test.values.reshape(X_test.values.shape[0], X_test.values.shape[1], 1)\n",
    "\n",
    "# train model\n",
    "lstm_model.fit(X_train_reshaped, to_categorical(y_train), epochs=20, batch_size=32, verbose=0)\n",
    "\n",
    "# get predictions\n",
    "y_pred = np.argmax(lstm_model.predict(X_test_reshaped), axis=-1)\n",
    "\n",
    "# scores\n",
    "print(f'\\n\\nModel Name: Keras LSTM')\n",
    "print(f'Accuracy: {accuracy_score(y_test, y_pred)}')\n",
    "print(f'Precision: {precision_score(y_test, y_pred)}')\n",
    "print(f'Recall: {recall_score(y_test, y_pred)}')\n",
    "print(f'F1 Score: {f1_score(y_test, y_pred)}')\n",
    "\n",
    "# create confusion matrix\n",
    "cm = confusion_matrix(y_test, y_pred)\n",
    "cm = pd.DataFrame(cm, columns=['Predicted 0', 'Predicted 1'], index=['Actual 0', 'Actual 1'])\n",
    "plt.figure(figsize=(4, 3))\n",
    "sns.heatmap(cm, annot=True, fmt='g', cmap='Blues')\n",
    "plt.title('Confusion Matrix for Keras LSTM')\n",
    "plt.show()\n"
   ]
  },
  {
   "cell_type": "code",
   "execution_count": null,
   "metadata": {},
   "outputs": [],
   "source": []
  },
  {
   "cell_type": "code",
   "execution_count": null,
   "metadata": {},
   "outputs": [],
   "source": []
  }
 ],
 "metadata": {
  "kernelspec": {
   "display_name": "Python 3",
   "language": "python",
   "name": "python3"
  },
  "language_info": {
   "codemirror_mode": {
    "name": "ipython",
    "version": 3
   },
   "file_extension": ".py",
   "mimetype": "text/x-python",
   "name": "python",
   "nbconvert_exporter": "python",
   "pygments_lexer": "ipython3",
   "version": "3.8.3"
  }
 },
 "nbformat": 4,
 "nbformat_minor": 2
}
